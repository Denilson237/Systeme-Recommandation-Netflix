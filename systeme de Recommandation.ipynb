{
 "cells": [
  {
   "cell_type": "markdown",
   "id": "4224f26b",
   "metadata": {},
   "source": [
    "# <center>SYSTEME DE RECOMMANDATION DE FILM.</center>"
   ]
  },
  {
   "cell_type": "markdown",
   "id": "cbb8869c",
   "metadata": {},
   "source": [
    "### OBJECTIF: \n",
    "       L'objectif de se projet est de mettre sur pied un systeme qui proposera des films par ordre de similarité au film renseigné par l'utilisateur."
   ]
  },
  {
   "cell_type": "markdown",
   "id": "8ac74a0d",
   "metadata": {},
   "source": [
    "### Qu'est-ce qu'un systeme de recommandation ?: \n",
    "\n",
    "       Un systeme de recommandation en intelligence artificiel est une application logiciel qui utilise des algorithmes pour analyser les preferences, le comportement et les habitudes d'un utilisatuer afin de recommander des elements pertinents. ces elements peuvent inclure des produits, des services , des contenus numeriques, des connexions sociales, et bien d'autres choses en fonction du contexte d'utilisation."
   ]
  },
  {
   "cell_type": "markdown",
   "id": "82e8dda5",
   "metadata": {},
   "source": [
    "### Implementation technique du projet"
   ]
  },
  {
   "cell_type": "code",
   "execution_count": 1,
   "id": "9822f9b5",
   "metadata": {},
   "outputs": [],
   "source": [
    "import pandas as pd\n",
    "import numpy as np\n",
    "import re\n",
    "from nltk.tokenize import word_tokenize\n",
    "from unidecode import unidecode\n",
    "from nltk.corpus import stopwords\n",
    "from sklearn.feature_extraction.text import TfidfVectorizer\n",
    "from sklearn.metrics.pairwise import cosine_similarity\n",
    "from warnings import filterwarnings\n",
    "filterwarnings(\"ignore\")"
   ]
  },
  {
   "cell_type": "code",
   "execution_count": 2,
   "id": "0153e53b",
   "metadata": {},
   "outputs": [],
   "source": [
    "df = pd.read_csv(\"movies.csv\")"
   ]
  },
  {
   "cell_type": "code",
   "execution_count": 3,
   "id": "57726ada",
   "metadata": {},
   "outputs": [
    {
     "data": {
      "text/html": [
       "<div>\n",
       "<style scoped>\n",
       "    .dataframe tbody tr th:only-of-type {\n",
       "        vertical-align: middle;\n",
       "    }\n",
       "\n",
       "    .dataframe tbody tr th {\n",
       "        vertical-align: top;\n",
       "    }\n",
       "\n",
       "    .dataframe thead th {\n",
       "        text-align: right;\n",
       "    }\n",
       "</style>\n",
       "<table border=\"1\" class=\"dataframe\">\n",
       "  <thead>\n",
       "    <tr style=\"text-align: right;\">\n",
       "      <th></th>\n",
       "      <th>name</th>\n",
       "      <th>rating</th>\n",
       "      <th>genre</th>\n",
       "      <th>year</th>\n",
       "      <th>released</th>\n",
       "      <th>score</th>\n",
       "      <th>votes</th>\n",
       "      <th>director</th>\n",
       "      <th>writer</th>\n",
       "      <th>star</th>\n",
       "      <th>country</th>\n",
       "      <th>budget</th>\n",
       "      <th>gross</th>\n",
       "      <th>company</th>\n",
       "      <th>runtime</th>\n",
       "    </tr>\n",
       "  </thead>\n",
       "  <tbody>\n",
       "    <tr>\n",
       "      <th>0</th>\n",
       "      <td>The Shining</td>\n",
       "      <td>R</td>\n",
       "      <td>Drama</td>\n",
       "      <td>1980</td>\n",
       "      <td>June 13, 1980 (United States)</td>\n",
       "      <td>8.4</td>\n",
       "      <td>927000.0</td>\n",
       "      <td>Stanley Kubrick</td>\n",
       "      <td>Stephen King</td>\n",
       "      <td>Jack Nicholson</td>\n",
       "      <td>United Kingdom</td>\n",
       "      <td>19000000.0</td>\n",
       "      <td>46998772.0</td>\n",
       "      <td>Warner Bros.</td>\n",
       "      <td>146.0</td>\n",
       "    </tr>\n",
       "    <tr>\n",
       "      <th>1</th>\n",
       "      <td>The Blue Lagoon</td>\n",
       "      <td>R</td>\n",
       "      <td>Adventure</td>\n",
       "      <td>1980</td>\n",
       "      <td>July 2, 1980 (United States)</td>\n",
       "      <td>5.8</td>\n",
       "      <td>65000.0</td>\n",
       "      <td>Randal Kleiser</td>\n",
       "      <td>Henry De Vere Stacpoole</td>\n",
       "      <td>Brooke Shields</td>\n",
       "      <td>United States</td>\n",
       "      <td>4500000.0</td>\n",
       "      <td>58853106.0</td>\n",
       "      <td>Columbia Pictures</td>\n",
       "      <td>104.0</td>\n",
       "    </tr>\n",
       "    <tr>\n",
       "      <th>2</th>\n",
       "      <td>Star Wars: Episode V - The Empire Strikes Back</td>\n",
       "      <td>PG</td>\n",
       "      <td>Action</td>\n",
       "      <td>1980</td>\n",
       "      <td>June 20, 1980 (United States)</td>\n",
       "      <td>8.7</td>\n",
       "      <td>1200000.0</td>\n",
       "      <td>Irvin Kershner</td>\n",
       "      <td>Leigh Brackett</td>\n",
       "      <td>Mark Hamill</td>\n",
       "      <td>United States</td>\n",
       "      <td>18000000.0</td>\n",
       "      <td>538375067.0</td>\n",
       "      <td>Lucasfilm</td>\n",
       "      <td>124.0</td>\n",
       "    </tr>\n",
       "    <tr>\n",
       "      <th>3</th>\n",
       "      <td>Airplane!</td>\n",
       "      <td>PG</td>\n",
       "      <td>Comedy</td>\n",
       "      <td>1980</td>\n",
       "      <td>July 2, 1980 (United States)</td>\n",
       "      <td>7.7</td>\n",
       "      <td>221000.0</td>\n",
       "      <td>Jim Abrahams</td>\n",
       "      <td>Jim Abrahams</td>\n",
       "      <td>Robert Hays</td>\n",
       "      <td>United States</td>\n",
       "      <td>3500000.0</td>\n",
       "      <td>83453539.0</td>\n",
       "      <td>Paramount Pictures</td>\n",
       "      <td>88.0</td>\n",
       "    </tr>\n",
       "    <tr>\n",
       "      <th>4</th>\n",
       "      <td>Caddyshack</td>\n",
       "      <td>R</td>\n",
       "      <td>Comedy</td>\n",
       "      <td>1980</td>\n",
       "      <td>July 25, 1980 (United States)</td>\n",
       "      <td>7.3</td>\n",
       "      <td>108000.0</td>\n",
       "      <td>Harold Ramis</td>\n",
       "      <td>Brian Doyle-Murray</td>\n",
       "      <td>Chevy Chase</td>\n",
       "      <td>United States</td>\n",
       "      <td>6000000.0</td>\n",
       "      <td>39846344.0</td>\n",
       "      <td>Orion Pictures</td>\n",
       "      <td>98.0</td>\n",
       "    </tr>\n",
       "  </tbody>\n",
       "</table>\n",
       "</div>"
      ],
      "text/plain": [
       "                                             name rating      genre  year  \\\n",
       "0                                     The Shining      R      Drama  1980   \n",
       "1                                 The Blue Lagoon      R  Adventure  1980   \n",
       "2  Star Wars: Episode V - The Empire Strikes Back     PG     Action  1980   \n",
       "3                                       Airplane!     PG     Comedy  1980   \n",
       "4                                      Caddyshack      R     Comedy  1980   \n",
       "\n",
       "                        released  score      votes         director  \\\n",
       "0  June 13, 1980 (United States)    8.4   927000.0  Stanley Kubrick   \n",
       "1   July 2, 1980 (United States)    5.8    65000.0   Randal Kleiser   \n",
       "2  June 20, 1980 (United States)    8.7  1200000.0   Irvin Kershner   \n",
       "3   July 2, 1980 (United States)    7.7   221000.0     Jim Abrahams   \n",
       "4  July 25, 1980 (United States)    7.3   108000.0     Harold Ramis   \n",
       "\n",
       "                    writer            star         country      budget  \\\n",
       "0             Stephen King  Jack Nicholson  United Kingdom  19000000.0   \n",
       "1  Henry De Vere Stacpoole  Brooke Shields   United States   4500000.0   \n",
       "2           Leigh Brackett     Mark Hamill   United States  18000000.0   \n",
       "3             Jim Abrahams     Robert Hays   United States   3500000.0   \n",
       "4       Brian Doyle-Murray     Chevy Chase   United States   6000000.0   \n",
       "\n",
       "         gross             company  runtime  \n",
       "0   46998772.0        Warner Bros.    146.0  \n",
       "1   58853106.0   Columbia Pictures    104.0  \n",
       "2  538375067.0           Lucasfilm    124.0  \n",
       "3   83453539.0  Paramount Pictures     88.0  \n",
       "4   39846344.0      Orion Pictures     98.0  "
      ]
     },
     "execution_count": 3,
     "metadata": {},
     "output_type": "execute_result"
    }
   ],
   "source": [
    "df.head()"
   ]
  },
  {
   "cell_type": "code",
   "execution_count": 4,
   "id": "6f56f200",
   "metadata": {},
   "outputs": [
    {
     "data": {
      "text/plain": [
       "0       United States\n",
       "1       United States\n",
       "2       United States\n",
       "3       United States\n",
       "4       United States\n",
       "            ...      \n",
       "7663    United States\n",
       "7664    United States\n",
       "7665         Cameroon\n",
       "7666    United States\n",
       "7667    United States\n",
       "Name: country, Length: 7668, dtype: object"
      ]
     },
     "execution_count": 4,
     "metadata": {},
     "output_type": "execute_result"
    }
   ],
   "source": [
    "df[\"country\"] = df[\"released\"].apply(lambda x : \" \".join(str(x).split(\"(\")[-1:])[:-1])\n",
    "df[\"country\"]"
   ]
  },
  {
   "cell_type": "code",
   "execution_count": 5,
   "id": "f1e8f77b",
   "metadata": {},
   "outputs": [
    {
     "data": {
      "text/html": [
       "<div>\n",
       "<style scoped>\n",
       "    .dataframe tbody tr th:only-of-type {\n",
       "        vertical-align: middle;\n",
       "    }\n",
       "\n",
       "    .dataframe tbody tr th {\n",
       "        vertical-align: top;\n",
       "    }\n",
       "\n",
       "    .dataframe thead th {\n",
       "        text-align: right;\n",
       "    }\n",
       "</style>\n",
       "<table border=\"1\" class=\"dataframe\">\n",
       "  <thead>\n",
       "    <tr style=\"text-align: right;\">\n",
       "      <th></th>\n",
       "      <th>name</th>\n",
       "      <th>genre</th>\n",
       "      <th>year</th>\n",
       "      <th>director</th>\n",
       "      <th>writer</th>\n",
       "      <th>star</th>\n",
       "      <th>country</th>\n",
       "    </tr>\n",
       "  </thead>\n",
       "  <tbody>\n",
       "    <tr>\n",
       "      <th>0</th>\n",
       "      <td>The Shining</td>\n",
       "      <td>Drama</td>\n",
       "      <td>1980</td>\n",
       "      <td>Stanley Kubrick</td>\n",
       "      <td>Stephen King</td>\n",
       "      <td>Jack Nicholson</td>\n",
       "      <td>United States</td>\n",
       "    </tr>\n",
       "    <tr>\n",
       "      <th>1</th>\n",
       "      <td>The Blue Lagoon</td>\n",
       "      <td>Adventure</td>\n",
       "      <td>1980</td>\n",
       "      <td>Randal Kleiser</td>\n",
       "      <td>Henry De Vere Stacpoole</td>\n",
       "      <td>Brooke Shields</td>\n",
       "      <td>United States</td>\n",
       "    </tr>\n",
       "    <tr>\n",
       "      <th>2</th>\n",
       "      <td>Star Wars: Episode V - The Empire Strikes Back</td>\n",
       "      <td>Action</td>\n",
       "      <td>1980</td>\n",
       "      <td>Irvin Kershner</td>\n",
       "      <td>Leigh Brackett</td>\n",
       "      <td>Mark Hamill</td>\n",
       "      <td>United States</td>\n",
       "    </tr>\n",
       "    <tr>\n",
       "      <th>3</th>\n",
       "      <td>Airplane!</td>\n",
       "      <td>Comedy</td>\n",
       "      <td>1980</td>\n",
       "      <td>Jim Abrahams</td>\n",
       "      <td>Jim Abrahams</td>\n",
       "      <td>Robert Hays</td>\n",
       "      <td>United States</td>\n",
       "    </tr>\n",
       "    <tr>\n",
       "      <th>4</th>\n",
       "      <td>Caddyshack</td>\n",
       "      <td>Comedy</td>\n",
       "      <td>1980</td>\n",
       "      <td>Harold Ramis</td>\n",
       "      <td>Brian Doyle-Murray</td>\n",
       "      <td>Chevy Chase</td>\n",
       "      <td>United States</td>\n",
       "    </tr>\n",
       "    <tr>\n",
       "      <th>...</th>\n",
       "      <td>...</td>\n",
       "      <td>...</td>\n",
       "      <td>...</td>\n",
       "      <td>...</td>\n",
       "      <td>...</td>\n",
       "      <td>...</td>\n",
       "      <td>...</td>\n",
       "    </tr>\n",
       "    <tr>\n",
       "      <th>7663</th>\n",
       "      <td>More to Life</td>\n",
       "      <td>Drama</td>\n",
       "      <td>2020</td>\n",
       "      <td>Joseph Ebanks</td>\n",
       "      <td>Joseph Ebanks</td>\n",
       "      <td>Shannon Bond</td>\n",
       "      <td>United States</td>\n",
       "    </tr>\n",
       "    <tr>\n",
       "      <th>7664</th>\n",
       "      <td>Dream Round</td>\n",
       "      <td>Comedy</td>\n",
       "      <td>2020</td>\n",
       "      <td>Dusty Dukatz</td>\n",
       "      <td>Lisa Huston</td>\n",
       "      <td>Michael Saquella</td>\n",
       "      <td>United States</td>\n",
       "    </tr>\n",
       "    <tr>\n",
       "      <th>7665</th>\n",
       "      <td>Saving Mbango</td>\n",
       "      <td>Drama</td>\n",
       "      <td>2020</td>\n",
       "      <td>Nkanya Nkwai</td>\n",
       "      <td>Lynno Lovert</td>\n",
       "      <td>Onyama Laura</td>\n",
       "      <td>Cameroon</td>\n",
       "    </tr>\n",
       "    <tr>\n",
       "      <th>7666</th>\n",
       "      <td>It's Just Us</td>\n",
       "      <td>Drama</td>\n",
       "      <td>2020</td>\n",
       "      <td>James Randall</td>\n",
       "      <td>James Randall</td>\n",
       "      <td>Christina Roz</td>\n",
       "      <td>United States</td>\n",
       "    </tr>\n",
       "    <tr>\n",
       "      <th>7667</th>\n",
       "      <td>Tee em el</td>\n",
       "      <td>Horror</td>\n",
       "      <td>2020</td>\n",
       "      <td>Pereko Mosia</td>\n",
       "      <td>Pereko Mosia</td>\n",
       "      <td>Siyabonga Mabaso</td>\n",
       "      <td>United States</td>\n",
       "    </tr>\n",
       "  </tbody>\n",
       "</table>\n",
       "<p>7668 rows × 7 columns</p>\n",
       "</div>"
      ],
      "text/plain": [
       "                                                name      genre  year  \\\n",
       "0                                        The Shining      Drama  1980   \n",
       "1                                    The Blue Lagoon  Adventure  1980   \n",
       "2     Star Wars: Episode V - The Empire Strikes Back     Action  1980   \n",
       "3                                          Airplane!     Comedy  1980   \n",
       "4                                         Caddyshack     Comedy  1980   \n",
       "...                                              ...        ...   ...   \n",
       "7663                                    More to Life      Drama  2020   \n",
       "7664                                     Dream Round     Comedy  2020   \n",
       "7665                                   Saving Mbango      Drama  2020   \n",
       "7666                                    It's Just Us      Drama  2020   \n",
       "7667                                       Tee em el     Horror  2020   \n",
       "\n",
       "             director                   writer              star  \\\n",
       "0     Stanley Kubrick             Stephen King    Jack Nicholson   \n",
       "1      Randal Kleiser  Henry De Vere Stacpoole    Brooke Shields   \n",
       "2      Irvin Kershner           Leigh Brackett       Mark Hamill   \n",
       "3        Jim Abrahams             Jim Abrahams       Robert Hays   \n",
       "4        Harold Ramis       Brian Doyle-Murray       Chevy Chase   \n",
       "...               ...                      ...               ...   \n",
       "7663    Joseph Ebanks            Joseph Ebanks      Shannon Bond   \n",
       "7664     Dusty Dukatz              Lisa Huston  Michael Saquella   \n",
       "7665     Nkanya Nkwai             Lynno Lovert      Onyama Laura   \n",
       "7666    James Randall            James Randall     Christina Roz   \n",
       "7667     Pereko Mosia             Pereko Mosia  Siyabonga Mabaso   \n",
       "\n",
       "            country  \n",
       "0     United States  \n",
       "1     United States  \n",
       "2     United States  \n",
       "3     United States  \n",
       "4     United States  \n",
       "...             ...  \n",
       "7663  United States  \n",
       "7664  United States  \n",
       "7665       Cameroon  \n",
       "7666  United States  \n",
       "7667  United States  \n",
       "\n",
       "[7668 rows x 7 columns]"
      ]
     },
     "execution_count": 5,
     "metadata": {},
     "output_type": "execute_result"
    }
   ],
   "source": [
    "df = df[[\"name\",\"genre\",\"year\",\"director\",\"writer\",\"star\",\"country\"]]\n",
    "df"
   ]
  },
  {
   "cell_type": "code",
   "execution_count": 6,
   "id": "d01217d5",
   "metadata": {},
   "outputs": [
    {
     "name": "stdout",
     "output_type": "stream",
     "text": [
      "<class 'pandas.core.frame.DataFrame'>\n",
      "RangeIndex: 7668 entries, 0 to 7667\n",
      "Data columns (total 7 columns):\n",
      " #   Column    Non-Null Count  Dtype \n",
      "---  ------    --------------  ----- \n",
      " 0   name      7668 non-null   object\n",
      " 1   genre     7668 non-null   object\n",
      " 2   year      7668 non-null   int64 \n",
      " 3   director  7668 non-null   object\n",
      " 4   writer    7665 non-null   object\n",
      " 5   star      7667 non-null   object\n",
      " 6   country   7668 non-null   object\n",
      "dtypes: int64(1), object(6)\n",
      "memory usage: 419.5+ KB\n"
     ]
    }
   ],
   "source": [
    "df.info()"
   ]
  },
  {
   "cell_type": "markdown",
   "id": "1213de6c",
   "metadata": {},
   "source": [
    "### Nettoyade de donnees"
   ]
  },
  {
   "cell_type": "code",
   "execution_count": 7,
   "id": "46591126",
   "metadata": {},
   "outputs": [
    {
     "data": {
      "text/plain": [
       "name        0\n",
       "genre       0\n",
       "year        0\n",
       "director    0\n",
       "writer      3\n",
       "star        1\n",
       "country     0\n",
       "dtype: int64"
      ]
     },
     "execution_count": 7,
     "metadata": {},
     "output_type": "execute_result"
    }
   ],
   "source": [
    "df.isna().sum()"
   ]
  },
  {
   "cell_type": "code",
   "execution_count": 8,
   "id": "a080c31f",
   "metadata": {},
   "outputs": [
    {
     "data": {
      "text/plain": [
       "(7668, 7)"
      ]
     },
     "execution_count": 8,
     "metadata": {},
     "output_type": "execute_result"
    }
   ],
   "source": [
    "df.shape"
   ]
  },
  {
   "cell_type": "code",
   "execution_count": 9,
   "id": "00d62326",
   "metadata": {},
   "outputs": [],
   "source": [
    "df = df.dropna()"
   ]
  },
  {
   "cell_type": "code",
   "execution_count": 10,
   "id": "91dc2124",
   "metadata": {},
   "outputs": [
    {
     "data": {
      "text/plain": [
       "name        0\n",
       "genre       0\n",
       "year        0\n",
       "director    0\n",
       "writer      0\n",
       "star        0\n",
       "country     0\n",
       "dtype: int64"
      ]
     },
     "execution_count": 10,
     "metadata": {},
     "output_type": "execute_result"
    }
   ],
   "source": [
    "df.isna().sum()"
   ]
  },
  {
   "cell_type": "code",
   "execution_count": 11,
   "id": "dc127197",
   "metadata": {},
   "outputs": [
    {
     "data": {
      "text/html": [
       "<div>\n",
       "<style scoped>\n",
       "    .dataframe tbody tr th:only-of-type {\n",
       "        vertical-align: middle;\n",
       "    }\n",
       "\n",
       "    .dataframe tbody tr th {\n",
       "        vertical-align: top;\n",
       "    }\n",
       "\n",
       "    .dataframe thead th {\n",
       "        text-align: right;\n",
       "    }\n",
       "</style>\n",
       "<table border=\"1\" class=\"dataframe\">\n",
       "  <thead>\n",
       "    <tr style=\"text-align: right;\">\n",
       "      <th></th>\n",
       "      <th>name</th>\n",
       "      <th>genre</th>\n",
       "      <th>year</th>\n",
       "      <th>director</th>\n",
       "      <th>writer</th>\n",
       "      <th>star</th>\n",
       "      <th>country</th>\n",
       "    </tr>\n",
       "  </thead>\n",
       "  <tbody>\n",
       "  </tbody>\n",
       "</table>\n",
       "</div>"
      ],
      "text/plain": [
       "Empty DataFrame\n",
       "Columns: [name, genre, year, director, writer, star, country]\n",
       "Index: []"
      ]
     },
     "execution_count": 11,
     "metadata": {},
     "output_type": "execute_result"
    }
   ],
   "source": [
    "df[df.duplicated()]"
   ]
  },
  {
   "cell_type": "code",
   "execution_count": 12,
   "id": "b335dcc8",
   "metadata": {},
   "outputs": [
    {
     "data": {
      "text/plain": [
       "(7664, 7)"
      ]
     },
     "execution_count": 12,
     "metadata": {},
     "output_type": "execute_result"
    }
   ],
   "source": [
    "df.shape"
   ]
  },
  {
   "cell_type": "code",
   "execution_count": 13,
   "id": "5400ed4c",
   "metadata": {},
   "outputs": [],
   "source": [
    "df[\"global\"] = df[\"name\"] +\" \"+ df[\"genre\"] +\" \"+df[\"year\"].astype(str) +\" \"+ df[\"director\"]+\" \"+df[\"writer\"]+\" \"+df[\"star\"]+\" \"+df[\"country\"]"
   ]
  },
  {
   "cell_type": "code",
   "execution_count": 14,
   "id": "c350b1da",
   "metadata": {},
   "outputs": [
    {
     "data": {
      "text/plain": [
       "0       The Shining Drama 1980 Stanley Kubrick Stephen...\n",
       "1       The Blue Lagoon Adventure 1980 Randal Kleiser ...\n",
       "2       Star Wars: Episode V - The Empire Strikes Back...\n",
       "3       Airplane! Comedy 1980 Jim Abrahams Jim Abraham...\n",
       "4       Caddyshack Comedy 1980 Harold Ramis Brian Doyl...\n",
       "                              ...                        \n",
       "7663    More to Life Drama 2020 Joseph Ebanks Joseph E...\n",
       "7664    Dream Round Comedy 2020 Dusty Dukatz Lisa Hust...\n",
       "7665    Saving Mbango Drama 2020 Nkanya Nkwai Lynno Lo...\n",
       "7666    It's Just Us Drama 2020 James Randall James Ra...\n",
       "7667    Tee em el Horror 2020 Pereko Mosia Pereko Mosi...\n",
       "Name: global, Length: 7664, dtype: object"
      ]
     },
     "execution_count": 14,
     "metadata": {},
     "output_type": "execute_result"
    }
   ],
   "source": [
    "df[\"global\"]"
   ]
  },
  {
   "cell_type": "code",
   "execution_count": 15,
   "id": "a03ea442",
   "metadata": {},
   "outputs": [
    {
     "data": {
      "text/html": [
       "<div>\n",
       "<style scoped>\n",
       "    .dataframe tbody tr th:only-of-type {\n",
       "        vertical-align: middle;\n",
       "    }\n",
       "\n",
       "    .dataframe tbody tr th {\n",
       "        vertical-align: top;\n",
       "    }\n",
       "\n",
       "    .dataframe thead th {\n",
       "        text-align: right;\n",
       "    }\n",
       "</style>\n",
       "<table border=\"1\" class=\"dataframe\">\n",
       "  <thead>\n",
       "    <tr style=\"text-align: right;\">\n",
       "      <th></th>\n",
       "      <th>name</th>\n",
       "      <th>genre</th>\n",
       "      <th>year</th>\n",
       "      <th>director</th>\n",
       "      <th>writer</th>\n",
       "      <th>star</th>\n",
       "      <th>country</th>\n",
       "      <th>global</th>\n",
       "    </tr>\n",
       "  </thead>\n",
       "  <tbody>\n",
       "    <tr>\n",
       "      <th>0</th>\n",
       "      <td>The Shining</td>\n",
       "      <td>Drama</td>\n",
       "      <td>1980</td>\n",
       "      <td>Stanley Kubrick</td>\n",
       "      <td>Stephen King</td>\n",
       "      <td>Jack Nicholson</td>\n",
       "      <td>United States</td>\n",
       "      <td>The Shining Drama 1980 Stanley Kubrick Stephen...</td>\n",
       "    </tr>\n",
       "    <tr>\n",
       "      <th>1</th>\n",
       "      <td>The Blue Lagoon</td>\n",
       "      <td>Adventure</td>\n",
       "      <td>1980</td>\n",
       "      <td>Randal Kleiser</td>\n",
       "      <td>Henry De Vere Stacpoole</td>\n",
       "      <td>Brooke Shields</td>\n",
       "      <td>United States</td>\n",
       "      <td>The Blue Lagoon Adventure 1980 Randal Kleiser ...</td>\n",
       "    </tr>\n",
       "    <tr>\n",
       "      <th>2</th>\n",
       "      <td>Star Wars: Episode V - The Empire Strikes Back</td>\n",
       "      <td>Action</td>\n",
       "      <td>1980</td>\n",
       "      <td>Irvin Kershner</td>\n",
       "      <td>Leigh Brackett</td>\n",
       "      <td>Mark Hamill</td>\n",
       "      <td>United States</td>\n",
       "      <td>Star Wars: Episode V - The Empire Strikes Back...</td>\n",
       "    </tr>\n",
       "    <tr>\n",
       "      <th>3</th>\n",
       "      <td>Airplane!</td>\n",
       "      <td>Comedy</td>\n",
       "      <td>1980</td>\n",
       "      <td>Jim Abrahams</td>\n",
       "      <td>Jim Abrahams</td>\n",
       "      <td>Robert Hays</td>\n",
       "      <td>United States</td>\n",
       "      <td>Airplane! Comedy 1980 Jim Abrahams Jim Abraham...</td>\n",
       "    </tr>\n",
       "    <tr>\n",
       "      <th>4</th>\n",
       "      <td>Caddyshack</td>\n",
       "      <td>Comedy</td>\n",
       "      <td>1980</td>\n",
       "      <td>Harold Ramis</td>\n",
       "      <td>Brian Doyle-Murray</td>\n",
       "      <td>Chevy Chase</td>\n",
       "      <td>United States</td>\n",
       "      <td>Caddyshack Comedy 1980 Harold Ramis Brian Doyl...</td>\n",
       "    </tr>\n",
       "  </tbody>\n",
       "</table>\n",
       "</div>"
      ],
      "text/plain": [
       "                                             name      genre  year  \\\n",
       "0                                     The Shining      Drama  1980   \n",
       "1                                 The Blue Lagoon  Adventure  1980   \n",
       "2  Star Wars: Episode V - The Empire Strikes Back     Action  1980   \n",
       "3                                       Airplane!     Comedy  1980   \n",
       "4                                      Caddyshack     Comedy  1980   \n",
       "\n",
       "          director                   writer            star        country  \\\n",
       "0  Stanley Kubrick             Stephen King  Jack Nicholson  United States   \n",
       "1   Randal Kleiser  Henry De Vere Stacpoole  Brooke Shields  United States   \n",
       "2   Irvin Kershner           Leigh Brackett     Mark Hamill  United States   \n",
       "3     Jim Abrahams             Jim Abrahams     Robert Hays  United States   \n",
       "4     Harold Ramis       Brian Doyle-Murray     Chevy Chase  United States   \n",
       "\n",
       "                                              global  \n",
       "0  The Shining Drama 1980 Stanley Kubrick Stephen...  \n",
       "1  The Blue Lagoon Adventure 1980 Randal Kleiser ...  \n",
       "2  Star Wars: Episode V - The Empire Strikes Back...  \n",
       "3  Airplane! Comedy 1980 Jim Abrahams Jim Abraham...  \n",
       "4  Caddyshack Comedy 1980 Harold Ramis Brian Doyl...  "
      ]
     },
     "execution_count": 15,
     "metadata": {},
     "output_type": "execute_result"
    }
   ],
   "source": [
    "df.head()"
   ]
  },
  {
   "cell_type": "markdown",
   "id": "603fc37c",
   "metadata": {},
   "source": [
    "### Prétraitement"
   ]
  },
  {
   "cell_type": "code",
   "execution_count": 16,
   "id": "5dd23930",
   "metadata": {},
   "outputs": [],
   "source": [
    "stop_words = stopwords.words('english')\n",
    "\n",
    "def pretraitement(text):\n",
    "    \n",
    "    text = re.sub(\"[^\\w\\s]\", \" \", text)\n",
    "    \n",
    "    text = ' '.join([unidecode(word.lower()) for word in word_tokenize(text) if word.lower() not in stop_words])\n",
    "     \n",
    "    return text"
   ]
  },
  {
   "cell_type": "code",
   "execution_count": 17,
   "id": "9d97f444",
   "metadata": {},
   "outputs": [],
   "source": [
    "df[\"global\"] = df[\"global\"].apply(lambda x : pretraitement(x))"
   ]
  },
  {
   "cell_type": "code",
   "execution_count": 18,
   "id": "fd8cf3a5",
   "metadata": {},
   "outputs": [
    {
     "data": {
      "text/plain": [
       "0       shining drama 1980 stanley kubrick stephen kin...\n",
       "1       blue lagoon adventure 1980 randal kleiser henr...\n",
       "2       star wars episode v empire strikes back action...\n",
       "3       airplane comedy 1980 jim abrahams jim abrahams...\n",
       "4       caddyshack comedy 1980 harold ramis brian doyl...\n",
       "                              ...                        \n",
       "7663    life drama 2020 joseph ebanks joseph ebanks sh...\n",
       "7664    dream round comedy 2020 dusty dukatz lisa hust...\n",
       "7665    saving mbango drama 2020 nkanya nkwai lynno lo...\n",
       "7666    us drama 2020 james randall james randall chri...\n",
       "7667    tee em el horror 2020 pereko mosia pereko mosi...\n",
       "Name: global, Length: 7664, dtype: object"
      ]
     },
     "execution_count": 18,
     "metadata": {},
     "output_type": "execute_result"
    }
   ],
   "source": [
    "df[\"global\"]"
   ]
  },
  {
   "cell_type": "markdown",
   "id": "fedae8e8",
   "metadata": {},
   "source": [
    "### VECTORISATION"
   ]
  },
  {
   "cell_type": "code",
   "execution_count": 19,
   "id": "8da460f7",
   "metadata": {},
   "outputs": [
    {
     "data": {
      "text/plain": [
       "(7664, 516)"
      ]
     },
     "execution_count": 19,
     "metadata": {},
     "output_type": "execute_result"
    }
   ],
   "source": [
    "tfidf_vectorizer = TfidfVectorizer(min_df=20)\n",
    "tfidf_matrix = tfidf_vectorizer.fit_transform(df[\"global\"])\n",
    "tfidf_matrix.shape"
   ]
  },
  {
   "cell_type": "markdown",
   "id": "4c39e6c7",
   "metadata": {},
   "source": [
    "### SIMILARITE"
   ]
  },
  {
   "cell_type": "code",
   "execution_count": 20,
   "id": "19b9ae83",
   "metadata": {},
   "outputs": [
    {
     "data": {
      "text/plain": [
       "(array([[1.        , 0.19939885, 0.18319076, ..., 0.07383379, 0.05511535,\n",
       "         0.02395477],\n",
       "        [0.19939885, 1.        , 0.19035892, ..., 0.        , 0.0152399 ,\n",
       "         0.02489211],\n",
       "        [0.18319076, 0.19035892, 1.        , ..., 0.        , 0.01400112,\n",
       "         0.02286876],\n",
       "        ...,\n",
       "        [0.07383379, 0.        , 0.        , ..., 1.        , 0.54784297,\n",
       "         0.77702632],\n",
       "        [0.05511535, 0.0152399 , 0.01400112, ..., 0.54784297, 1.        ,\n",
       "         0.4490865 ],\n",
       "        [0.02395477, 0.02489211, 0.02286876, ..., 0.77702632, 0.4490865 ,\n",
       "         1.        ]]),\n",
       " numpy.ndarray)"
      ]
     },
     "execution_count": 20,
     "metadata": {},
     "output_type": "execute_result"
    }
   ],
   "source": [
    "sim = cosine_similarity(tfidf_matrix)\n",
    "sim, type(sim)"
   ]
  },
  {
   "cell_type": "markdown",
   "id": "9cc1fff0",
   "metadata": {},
   "source": [
    "### SAUVEGARDE"
   ]
  },
  {
   "cell_type": "code",
   "execution_count": 21,
   "id": "c0d689fe",
   "metadata": {},
   "outputs": [],
   "source": [
    "np.save(\"matrice_de_similarité.npy\", sim)"
   ]
  },
  {
   "cell_type": "markdown",
   "id": "e568049b",
   "metadata": {},
   "source": [
    "### TEST"
   ]
  },
  {
   "cell_type": "code",
   "execution_count": 22,
   "id": "a57cb867",
   "metadata": {},
   "outputs": [
    {
     "data": {
      "text/plain": [
       "array([[1.        , 0.19939885, 0.18319076, ..., 0.07383379, 0.05511535,\n",
       "        0.02395477],\n",
       "       [0.19939885, 1.        , 0.19035892, ..., 0.        , 0.0152399 ,\n",
       "        0.02489211],\n",
       "       [0.18319076, 0.19035892, 1.        , ..., 0.        , 0.01400112,\n",
       "        0.02286876],\n",
       "       ...,\n",
       "       [0.07383379, 0.        , 0.        , ..., 1.        , 0.54784297,\n",
       "        0.77702632],\n",
       "       [0.05511535, 0.0152399 , 0.01400112, ..., 0.54784297, 1.        ,\n",
       "        0.4490865 ],\n",
       "       [0.02395477, 0.02489211, 0.02286876, ..., 0.77702632, 0.4490865 ,\n",
       "        1.        ]])"
      ]
     },
     "execution_count": 22,
     "metadata": {},
     "output_type": "execute_result"
    }
   ],
   "source": [
    "matrix = np.load(\"matrice_de_similarité.npy\")\n",
    "matrix"
   ]
  },
  {
   "cell_type": "code",
   "execution_count": 23,
   "id": "eda33396",
   "metadata": {},
   "outputs": [],
   "source": [
    "def film(namef, df=df, t = 7):\n",
    "    pos = df[df[\"name\"] == namef].index[0]\n",
    "    df[\"sim\"] = 100 * matrix[pos]\n",
    "    df = df.sort_values(by='sim', ascending=False)\n",
    "    return df[1:t+1]"
   ]
  },
  {
   "cell_type": "code",
   "execution_count": 24,
   "id": "0cf19b33",
   "metadata": {},
   "outputs": [],
   "source": [
    "R = film(namef = \"American Gigolo\")"
   ]
  },
  {
   "cell_type": "code",
   "execution_count": 25,
   "id": "37dd10b3",
   "metadata": {},
   "outputs": [
    {
     "data": {
      "text/html": [
       "<div>\n",
       "<style scoped>\n",
       "    .dataframe tbody tr th:only-of-type {\n",
       "        vertical-align: middle;\n",
       "    }\n",
       "\n",
       "    .dataframe tbody tr th {\n",
       "        vertical-align: top;\n",
       "    }\n",
       "\n",
       "    .dataframe thead th {\n",
       "        text-align: right;\n",
       "    }\n",
       "</style>\n",
       "<table border=\"1\" class=\"dataframe\">\n",
       "  <thead>\n",
       "    <tr style=\"text-align: right;\">\n",
       "      <th></th>\n",
       "      <th>name</th>\n",
       "      <th>genre</th>\n",
       "      <th>year</th>\n",
       "      <th>director</th>\n",
       "      <th>writer</th>\n",
       "      <th>star</th>\n",
       "      <th>country</th>\n",
       "      <th>global</th>\n",
       "      <th>sim</th>\n",
       "    </tr>\n",
       "  </thead>\n",
       "  <tbody>\n",
       "    <tr>\n",
       "      <th>4477</th>\n",
       "      <td>Crash</td>\n",
       "      <td>Crime</td>\n",
       "      <td>2004</td>\n",
       "      <td>Paul Haggis</td>\n",
       "      <td>Paul Haggis</td>\n",
       "      <td>Don Cheadle</td>\n",
       "      <td>United States</td>\n",
       "      <td>crash crime 2004 paul haggis paul haggis chead...</td>\n",
       "      <td>58.787420</td>\n",
       "    </tr>\n",
       "    <tr>\n",
       "      <th>4390</th>\n",
       "      <td>American Splendor</td>\n",
       "      <td>Biography</td>\n",
       "      <td>2003</td>\n",
       "      <td>Shari Springer Berman</td>\n",
       "      <td>Harvey Pekar</td>\n",
       "      <td>Paul Giamatti</td>\n",
       "      <td>United States</td>\n",
       "      <td>american splendor biography 2003 shari springe...</td>\n",
       "      <td>53.937856</td>\n",
       "    </tr>\n",
       "    <tr>\n",
       "      <th>2181</th>\n",
       "      <td>Light Sleeper</td>\n",
       "      <td>Crime</td>\n",
       "      <td>1992</td>\n",
       "      <td>Paul Schrader</td>\n",
       "      <td>Paul Schrader</td>\n",
       "      <td>Willem Dafoe</td>\n",
       "      <td>United Kingdom</td>\n",
       "      <td>light sleeper crime 1992 paul schrader paul sc...</td>\n",
       "      <td>53.631549</td>\n",
       "    </tr>\n",
       "    <tr>\n",
       "      <th>6780</th>\n",
       "      <td>Grandma</td>\n",
       "      <td>Comedy</td>\n",
       "      <td>2015</td>\n",
       "      <td>Paul Weitz</td>\n",
       "      <td>Paul Weitz</td>\n",
       "      <td>Lily Tomlin</td>\n",
       "      <td>United States</td>\n",
       "      <td>grandma comedy 2015 paul weitz paul weitz lily...</td>\n",
       "      <td>52.633512</td>\n",
       "    </tr>\n",
       "    <tr>\n",
       "      <th>1602</th>\n",
       "      <td>Scenes from the Class Struggle in Beverly Hills</td>\n",
       "      <td>Comedy</td>\n",
       "      <td>1989</td>\n",
       "      <td>Paul Bartel</td>\n",
       "      <td>Paul Bartel</td>\n",
       "      <td>Jacqueline Bisset</td>\n",
       "      <td>United States</td>\n",
       "      <td>scenes class struggle beverly hills comedy 198...</td>\n",
       "      <td>52.633512</td>\n",
       "    </tr>\n",
       "    <tr>\n",
       "      <th>791</th>\n",
       "      <td>DEFCON-4</td>\n",
       "      <td>Action</td>\n",
       "      <td>1985</td>\n",
       "      <td>Paul Donovan</td>\n",
       "      <td>Paul Donovan</td>\n",
       "      <td>Lenore Zann</td>\n",
       "      <td>United States</td>\n",
       "      <td>defcon 4 action 1985 paul donovan paul donovan...</td>\n",
       "      <td>52.327585</td>\n",
       "    </tr>\n",
       "    <tr>\n",
       "      <th>1747</th>\n",
       "      <td>Almost an Angel</td>\n",
       "      <td>Comedy</td>\n",
       "      <td>1990</td>\n",
       "      <td>John Cornell</td>\n",
       "      <td>Paul Hogan</td>\n",
       "      <td>Paul Hogan</td>\n",
       "      <td>United States</td>\n",
       "      <td>almost angel comedy 1990 john cornell paul hog...</td>\n",
       "      <td>50.030298</td>\n",
       "    </tr>\n",
       "  </tbody>\n",
       "</table>\n",
       "</div>"
      ],
      "text/plain": [
       "                                                 name      genre  year  \\\n",
       "4477                                            Crash      Crime  2004   \n",
       "4390                                American Splendor  Biography  2003   \n",
       "2181                                    Light Sleeper      Crime  1992   \n",
       "6780                                          Grandma     Comedy  2015   \n",
       "1602  Scenes from the Class Struggle in Beverly Hills     Comedy  1989   \n",
       "791                                          DEFCON-4     Action  1985   \n",
       "1747                                  Almost an Angel     Comedy  1990   \n",
       "\n",
       "                   director         writer               star         country  \\\n",
       "4477            Paul Haggis    Paul Haggis        Don Cheadle   United States   \n",
       "4390  Shari Springer Berman   Harvey Pekar      Paul Giamatti   United States   \n",
       "2181          Paul Schrader  Paul Schrader       Willem Dafoe  United Kingdom   \n",
       "6780             Paul Weitz     Paul Weitz        Lily Tomlin   United States   \n",
       "1602            Paul Bartel    Paul Bartel  Jacqueline Bisset   United States   \n",
       "791            Paul Donovan   Paul Donovan        Lenore Zann   United States   \n",
       "1747           John Cornell     Paul Hogan         Paul Hogan   United States   \n",
       "\n",
       "                                                 global        sim  \n",
       "4477  crash crime 2004 paul haggis paul haggis chead...  58.787420  \n",
       "4390  american splendor biography 2003 shari springe...  53.937856  \n",
       "2181  light sleeper crime 1992 paul schrader paul sc...  53.631549  \n",
       "6780  grandma comedy 2015 paul weitz paul weitz lily...  52.633512  \n",
       "1602  scenes class struggle beverly hills comedy 198...  52.633512  \n",
       "791   defcon 4 action 1985 paul donovan paul donovan...  52.327585  \n",
       "1747  almost angel comedy 1990 john cornell paul hog...  50.030298  "
      ]
     },
     "execution_count": 25,
     "metadata": {},
     "output_type": "execute_result"
    }
   ],
   "source": [
    "R"
   ]
  },
  {
   "cell_type": "code",
   "execution_count": null,
   "id": "affea01f",
   "metadata": {},
   "outputs": [],
   "source": []
  }
 ],
 "metadata": {
  "kernelspec": {
   "display_name": "Python 3 (ipykernel)",
   "language": "python",
   "name": "python3"
  },
  "language_info": {
   "codemirror_mode": {
    "name": "ipython",
    "version": 3
   },
   "file_extension": ".py",
   "mimetype": "text/x-python",
   "name": "python",
   "nbconvert_exporter": "python",
   "pygments_lexer": "ipython3",
   "version": "3.11.5"
  }
 },
 "nbformat": 4,
 "nbformat_minor": 5
}
